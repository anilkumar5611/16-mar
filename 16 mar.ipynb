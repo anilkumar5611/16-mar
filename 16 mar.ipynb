{
 "cells": [
  {
   "cell_type": "code",
   "execution_count": 2,
   "id": "35333c05-9157-4755-b4b7-50fa6eec29a7",
   "metadata": {},
   "outputs": [],
   "source": [
    "#Q1: Define overfitting and underfitting in machine learning. What are the consequences of each, and how\n",
    "#can they be mitigated?"
   ]
  },
  {
   "cell_type": "code",
   "execution_count": 3,
   "id": "a22177f8-1f74-445f-bd70-ad8204c36158",
   "metadata": {},
   "outputs": [
    {
     "data": {
      "text/plain": [
       "'When a model performs very well for training data but has poor performance with test data (new data), it is known as overfitting. In this case, the machine learning model learns the details and noise in the training data such that it negatively affects the performance of the model on test data.'"
      ]
     },
     "execution_count": 3,
     "metadata": {},
     "output_type": "execute_result"
    }
   ],
   "source": [
    "'''When a model performs very well for training data but has poor performance with test data (new data), it is known as overfitting. In this case, the machine learning model learns the details and noise in the training data such that it negatively affects the performance of the model on test data.'''"
   ]
  },
  {
   "cell_type": "code",
   "execution_count": 4,
   "id": "1c579b9a-6c77-457b-acac-c70a6f3d9382",
   "metadata": {},
   "outputs": [],
   "source": [
    "#Q2: How can we reduce overfitting? Explain in brief."
   ]
  },
  {
   "cell_type": "code",
   "execution_count": 5,
   "id": "b30a8880-b274-453a-8dc4-0a300b7e5b8d",
   "metadata": {},
   "outputs": [
    {
     "data": {
      "text/plain": [
       "'You can prevent overfitting by diversifying and scaling your training data set or using some other data science strategies, like those given below.\\nEarly stopping. Early stopping pauses the training phase before the machine learning model learns the noise in the data. ...\\nPruning. ...\\nRegularization. ...\\nEnsembling. ...\\nData augmentation.'"
      ]
     },
     "execution_count": 5,
     "metadata": {},
     "output_type": "execute_result"
    }
   ],
   "source": [
    "'''You can prevent overfitting by diversifying and scaling your training data set or using some other data science strategies, like those given below.\n",
    "Early stopping. Early stopping pauses the training phase before the machine learning model learns the noise in the data. ...\n",
    "Pruning. ...\n",
    "Regularization. ...\n",
    "Ensembling. ...\n",
    "Data augmentation.'''"
   ]
  },
  {
   "cell_type": "code",
   "execution_count": 6,
   "id": "5584d0e5-0dac-4720-90ac-c6d2227b6977",
   "metadata": {},
   "outputs": [],
   "source": [
    "#Q3: Explain underfitting. List scenarios where underfitting can occur in ML."
   ]
  },
  {
   "cell_type": "code",
   "execution_count": 7,
   "id": "bf1285c9-d601-4cfb-8df3-7c4cdfefb9d6",
   "metadata": {},
   "outputs": [
    {
     "data": {
      "text/plain": [
       "'Its occurrence simply means that our \\nmodel or the algorithm does not fit the data well enough.\\nIt usually happens when we have less data to build an accurate model and \\nalso when we try to build a linear model with fewer non-linear data.'"
      ]
     },
     "execution_count": 7,
     "metadata": {},
     "output_type": "execute_result"
    }
   ],
   "source": [
    "'''Its occurrence simply means that our \n",
    "model or the algorithm does not fit the data well enough.\n",
    "It usually happens when we have less data to build an accurate model and \n",
    "also when we try to build a linear model with fewer non-linear data.'''"
   ]
  },
  {
   "cell_type": "code",
   "execution_count": null,
   "id": "cdeab6e9-3fcf-4620-a7a8-04c8c151e43a",
   "metadata": {},
   "outputs": [],
   "source": [
    "#VQ4: Explain the bias-variance tradeoff in machine learning. What is the relationship between bias and\n",
    "#variance, and how do they affect model performance?"
   ]
  },
  {
   "cell_type": "code",
   "execution_count": 8,
   "id": "04d589aa-8694-4860-a49b-2341cca0109a",
   "metadata": {},
   "outputs": [
    {
     "data": {
      "text/plain": [
       "'Bias Variance Tradeoff\\nIf the algorithm is too simple (hypothesis with linear equation) then\\nit may be on high bias and low variance condition and thus is error-prone. \\nIf algorithms fit too complex (hypothesis with high degree equation) then \\nit may be on high variance and low bias.'"
      ]
     },
     "execution_count": 8,
     "metadata": {},
     "output_type": "execute_result"
    }
   ],
   "source": [
    "'''Bias Variance Tradeoff\n",
    "If the algorithm is too simple (hypothesis with linear equation) then\n",
    "it may be on high bias and low variance condition and thus is error-prone. \n",
    "If algorithms fit too complex (hypothesis with high degree equation) then \n",
    "it may be on high variance and low bias.'''"
   ]
  },
  {
   "cell_type": "code",
   "execution_count": 9,
   "id": "a9896e94-af25-45e9-aa30-f701a2a86f37",
   "metadata": {},
   "outputs": [],
   "source": [
    "#Q5: Discuss some common methods for detecting overfitting and underfitting in machine learning models.\n",
    "#How can you determine whether your model is overfitting or underfitting?#"
   ]
  },
  {
   "cell_type": "code",
   "execution_count": 10,
   "id": "bf94f0aa-5181-45a3-9ced-18a15f3c7e17",
   "metadata": {},
   "outputs": [
    {
     "data": {
      "text/plain": [
       "'We can determine whether a predictive model is underfitting or overfitting the \\ntraining data by looking at the prediction error on the training data and the\\nevaluation data. Your model is underfitting the training data when the model performs\\npoorly on the training data.'"
      ]
     },
     "execution_count": 10,
     "metadata": {},
     "output_type": "execute_result"
    }
   ],
   "source": [
    "'''We can determine whether a predictive model is underfitting or overfitting the \n",
    "training data by looking at the prediction error on the training data and the\n",
    "evaluation data. Your model is underfitting the training data when the model performs\n",
    "poorly on the training data.'''"
   ]
  },
  {
   "cell_type": "code",
   "execution_count": 11,
   "id": "2677f77c-9c37-4dc3-a283-88d3d5681616",
   "metadata": {},
   "outputs": [],
   "source": [
    "#Q6: Compare and contrast bias and variance in machine learning. What are some examples of high bias\n",
    "#and high variance models, and how do they differ in terms of their performance?"
   ]
  },
  {
   "cell_type": "code",
   "execution_count": 12,
   "id": "df51a2d7-b0e7-4fdf-9dc3-169c87a4108d",
   "metadata": {},
   "outputs": [
    {
     "data": {
      "text/plain": [
       "'A model with high variance may represent the data set accurately but could lead\\nto overfitting to noisy or otherwise unrepresentative training data. In comparison,\\na model with high bias may underfit the training data due to a simpler model that \\noverlooks regularities in the data'"
      ]
     },
     "execution_count": 12,
     "metadata": {},
     "output_type": "execute_result"
    }
   ],
   "source": [
    "'''A model with high variance may represent the data set accurately but could lead\n",
    "to overfitting to noisy or otherwise unrepresentative training data. In comparison,\n",
    "a model with high bias may underfit the training data due to a simpler model that \n",
    "overlooks regularities in the data'''"
   ]
  },
  {
   "cell_type": "code",
   "execution_count": null,
   "id": "abd2c15b-9553-4c14-967c-00372517f8c4",
   "metadata": {},
   "outputs": [],
   "source": [
    "#Q7: What is regularization in machine learning, and how can it be used to prevent overfitting? Describe\n",
    "#some common regularization techniques and how they work."
   ]
  },
  {
   "cell_type": "code",
   "execution_count": null,
   "id": "e7cce54d-5519-4ec1-9446-a645fb846e95",
   "metadata": {},
   "outputs": [],
   "source": [
    "'''Regularization is a technique that adds information to a model to prevent the \n",
    "occurrence of overfitting. It is a type of regression that minimizes the coefficient\n",
    "estimates to zero to reduce the capacity (size) of a model. In this context, the \n",
    "reduction of the capacity of a model involves the removal of extra weights."
   ]
  }
 ],
 "metadata": {
  "kernelspec": {
   "display_name": "Python 3 (ipykernel)",
   "language": "python",
   "name": "python3"
  },
  "language_info": {
   "codemirror_mode": {
    "name": "ipython",
    "version": 3
   },
   "file_extension": ".py",
   "mimetype": "text/x-python",
   "name": "python",
   "nbconvert_exporter": "python",
   "pygments_lexer": "ipython3",
   "version": "3.10.8"
  }
 },
 "nbformat": 4,
 "nbformat_minor": 5
}
